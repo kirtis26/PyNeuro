{
 "cells": [
  {
   "cell_type": "markdown",
   "metadata": {},
   "source": [
    "# PyNeuro\n",
    "## Модель машинного обучения  - НЕЙРОННАЯ СЕТЬ"
   ]
  },
  {
   "cell_type": "code",
   "execution_count": 1,
   "metadata": {},
   "outputs": [],
   "source": [
    "from copy import deepcopy\n",
    "import numpy as np\n",
    "from numpy import random as rd\n",
    "import matplotlib.pyplot as plt"
   ]
  },
  {
   "cell_type": "code",
   "execution_count": 2,
   "metadata": {},
   "outputs": [],
   "source": [
    "class NeuralNetwork(object):\n",
    "    \n",
    "    \"\"\"\n",
    "    Класс Нейронная сеть\n",
    "    Обучение сети проходит методом обратного распространения ошибки\n",
    "    layers - объект типа list: например, layers = [4, 20, 10, 5, 1]\n",
    "             4 нейрона на слое входных данных (input layers);\n",
    "             3 скрытых слоя сети NN (hidden layers), содержащих 20, 10 и 5 нейронов, соотвественно;\n",
    "             1 нейрон в выходном слое (output layers).\n",
    "    \"\"\"\n",
    "    \n",
    "    def __init__(self, layers, weights=None):\n",
    "        self.layers = layers\n",
    "        self.weights = weights\n",
    "        self.activations_value = None\n",
    "        self.summary_arg = None\n",
    "        self.n_layers = len(layers)\n",
    "    \n",
    "    def __repr__(self):\n",
    "        return f\"NeuralNetwork:\\n - input layer: {self.layers[0]} neurons;\\n - output layer: {self.layers[-1]} neurons;\\n - hidden layers: {len(self.layers[1:-1])}\"\n",
    "    \n",
    "    def function_activation(self, arg):\n",
    "        \"\"\"\n",
    "        Ф-ция активации - бинарная сигмоидальная функция с областью значений (0, 1)\n",
    "        \"\"\"\n",
    "        fx = 1 / (1 + np.exp(-arg))\n",
    "        if fx == 1:\n",
    "            return 1 - 1e-9\n",
    "        elif fx == 0:\n",
    "            return 0 + 1e-9\n",
    "        else:\n",
    "            return fx\n",
    "    \n",
    "    def derivative_activation(self, arg):\n",
    "        return (1 / (1 + np.exp(-arg))) * (1 - (1 / (1 + np.exp(-arg))))\n",
    "    \n",
    "    def create(self):\n",
    "        \"\"\"\n",
    "        Ф-ция инициилизации нейронной сети. С помощью генератора списка создает матрицы \n",
    "        весов связей weights между нейронами каждого слоя со случайными числами от -1 до 1.\n",
    "        !ПРИМЕЧАНИЕ!: начальная матрица весов W[0] = 0.\n",
    "        \"\"\"\n",
    "        self.weights = [np.mat(rd.uniform(-1, 1, (self.layers[i], 1+self.layers[i-1])))\n",
    "                     if i!=0 else 0 for i in range(self.n_layers)]\n",
    "        \n",
    "    def run(self, input_data):\n",
    "        \"\"\"\n",
    "        Ф-ция вычисления матрицы выходных сигналов сети. \n",
    "        input_data - входные данные (может быть несколько сразу)\n",
    "        !ПРИМЕЧАНИЕ!: Значения активационной функции для входного слоя равны самим значениям\n",
    "        \"\"\"\n",
    "        count_sample = len(input_data)\n",
    "        self.activations_value = [deepcopy(input_data)]\n",
    "        self.summary_arg = [0]   \n",
    "        fa = np.vectorize(self.function_activation)\n",
    "        \n",
    "        for i in range(1, self.n_layers):\n",
    "            self.activations_value[i-1] = np.c_[np.ones(count_sample), self.activations_value[i-1]]\n",
    "            self.summary_arg.append(self.activations_value[i-1] * self.weights[i].T)\n",
    "            self.activations_value.append(fa(self.summary_arg[i]))\n",
    "            \n",
    "        out_signal = self.activations_value[-1]\n",
    "        return out_signal\n",
    "            \n",
    "    def backpropagation(self, X, Y_expect, lambd):\n",
    "        \"\"\"\n",
    "        Метод обратного распространения ошибки\n",
    "        X - входные значения\n",
    "        Y_expect - ожидаемые выходные значения сети \n",
    "        \"\"\"\n",
    "        count_layers = self.n_layers\n",
    "        count_sample = len(X)\n",
    "        delta_W = [0] * count_layers\n",
    "        Y_expect = np.matrix(Y_expect)\n",
    "        Y = deepcopy(self.run(X))\n",
    "        W = deepcopy(self.weights)\n",
    "        Z = deepcopy(self.summary_arg)\n",
    "        A = deepcopy(self.activations_value)\n",
    "        foo_der = np.vectorize(self.derivative_activation)\n",
    "        \n",
    "        for n in range(0, count_sample):\n",
    "            delta = [0] * (count_layers + 1)\n",
    "            delta[-1] = (Y[n] - Y_expect[n]).T\n",
    "            for i in range(count_layers - 1, 0, -1):\n",
    "                if i > 1:\n",
    "                    z = Z[i-1][n]\n",
    "                    z = np.c_[[[1]], z]\n",
    "                    delta[i] = np.multiply(W[i].T * delta[i + 1], foo_der(z).T)\n",
    "                    delta[i] = delta[i][1:]\n",
    "                delta_W[i] += delta[i + 1] * A[i - 1][n]\n",
    "\n",
    "        for i in range(1, len(delta_W)):\n",
    "            delta_W[i] = delta_W[i] / count_layers\n",
    "            delta_W[i][:, 1:] = delta_W[i][:, 1:] + W[i][:, 1:] * (lambd / count_layers)\n",
    "            \n",
    "        return delta_W\n",
    "    \n",
    "    def get_error(self, X, Y, lambd):\n",
    "        \"\"\"\n",
    "        Ф-ция вычисления ошибки выходного сигнала нейронной сети с регуляризацией\n",
    "        lambd - коэффициент регуляризации\n",
    "        X - входные данные\n",
    "        Y - выходные значения \n",
    "        \"\"\"\n",
    "        count_sample = len(X)\n",
    "        Y = np.matrix(deepcopy(Y))\n",
    "        W = deepcopy(self.weights)\n",
    "        H = self.run(X)\n",
    "        \n",
    "        cost = (-1 * Y.T * np.log(H) - (1 - Y.T) * np.log(1 - H)).sum(axis=0).sum(axis=1)\n",
    "        regul = 0\n",
    "        \n",
    "        for i in range(1, len(W)):\n",
    "            W[i] = np.delete(W[i], 0, axis=1)\n",
    "            W[i] = np.power(W[i], 2)\n",
    "            regul += W[i].sum(axis=0).sum(axis=1)\n",
    "            \n",
    "        return cost / count_sample + (lambd / (2 * count_sample)) * regul\n",
    "\n",
    "    def training(self, xTrain, yTrain, xTest, yTest, alpha=0.2, lambd=0.3, maxiter=1000, callback=False):\n",
    "        \"\"\"\n",
    "        Ф-ция обучения нейронной сети - подбирает матрицу весов связей на основе обучающей выборки\n",
    "        alpha - отвечает за скорость обучения (насколько сильно изменяется матрица весов в каждой итерации)\n",
    "        \"\"\"\n",
    "        eps, mi = 1, 0\n",
    "        res_back = []\n",
    "        \n",
    "        while eps > 0 and mi < maxiter:\n",
    "            eps = self.get_error(xTrain, yTrain, lambd)\n",
    "            eps_test = self.get_error(xTest, yTest, lambd)\n",
    "            delta = self.backpropagation(xTrain, yTrain, lambd)\n",
    "            self.weights = [self.weights[i] - alpha * delta[i] for i in range(len(self.weights))]\n",
    "            mi += 1\n",
    "            if callback is True:\n",
    "                res_back.append(self.run(xTest))\n",
    "                \n",
    "        print(f'iter: {mi}, error train: {eps[0, 0]}, error test: {eps_test[0, 0]}')\n",
    "        print(f'X_test:\\n{self.run(xTest)}')\n",
    "        return res_back"
   ]
  },
  {
   "cell_type": "markdown",
   "metadata": {},
   "source": [
    "## Пример обучения нейронной сети"
   ]
  },
  {
   "cell_type": "code",
   "execution_count": 168,
   "metadata": {},
   "outputs": [],
   "source": [
    "layers = [4, 50, 1]"
   ]
  },
  {
   "cell_type": "code",
   "execution_count": 169,
   "metadata": {},
   "outputs": [
    {
     "data": {
      "text/plain": [
       "NeuralNetwork:\n",
       " - input layer: 4 neurons;\n",
       " - output layer: 1 neurons;\n",
       " - hidden layers: 1"
      ]
     },
     "execution_count": 169,
     "metadata": {},
     "output_type": "execute_result"
    }
   ],
   "source": [
    "# Создание объекта класса Нейронная сеть\n",
    "NN = NeuralNetwork(layers)\n",
    "NN"
   ]
  },
  {
   "cell_type": "code",
   "execution_count": 170,
   "metadata": {},
   "outputs": [],
   "source": [
    "# Создание нейронной сети (инициилизация случаных весовых коэф-ов связей)\n",
    "NN.create()"
   ]
  },
  {
   "cell_type": "code",
   "execution_count": 171,
   "metadata": {},
   "outputs": [],
   "source": [
    "# Обучающая выборка: если последовательность возрастающая то 1, иначе - 0\n",
    "X_train = [[1, 2, 3, 4],\n",
    "          [5, 6, 7, 8],\n",
    "          [9, 10, 11, 12],\n",
    "          [1, 3, 5, 7],\n",
    "          [2, 4, 6, 8],\n",
    "          [1.1, 1.2, 1.3, 1.4],\n",
    "          [1.5, 1.6, 1.7, 1.8],\n",
    "          [1.9, 2.0, 2.1, 2.2],\n",
    "          [2.3, 2.4, 2.5, 2.6],\n",
    "          [2.7, 2.8, 2.9, 3.0],\n",
    "          [3.15, 3.33, 3.54, 3.88],\n",
    "          [4.5, 5.5, 6.5, 7.5],\n",
    "          [1.9, 2.9, 3.9, 4.9],\n",
    "          [5.55, 6.66, 7.77, 8.88],\n",
    "          [4.6, 5.8, 6.0, 8.1],\n",
    "          [4, 3, 2, 1],\n",
    "          [8, 7, 6, 5],\n",
    "          [12, 11, 10, 9],\n",
    "          [7, 5, 3, 1],\n",
    "          [8, 6, 4, 2],\n",
    "          [1.45, 1.34, 1.23, 1.12],\n",
    "          [1.89, 1.78, 1.66, 1.51],\n",
    "          [2.24, 2.18, 2.05, 1.9],\n",
    "          [2.64, 2.50, 2.48, 2.37],\n",
    "          [3.1, 2.95, 2.82, 2.71],\n",
    "          [3.94, 3.75, 3.59, 3.45],\n",
    "          [8.59, 7.58, 6.57, 5.56],\n",
    "          [4.98, 3.9, 2.98, 1.9],\n",
    "          [8.86, 7.76, 6.66, 5.56],\n",
    "          [9.5, 5.67, 4.7, 1.46],]\n",
    "Y_train = [[1], [1], [1], [1], [1], [1], [1], [1], [1], [1], [1], [1], [1], [1], [1],\n",
    "          [0], [0], [0], [0], [0], [0], [0], [0], [0], [0], [0], [0], [0], [0], [0]]"
   ]
  },
  {
   "cell_type": "code",
   "execution_count": 172,
   "metadata": {},
   "outputs": [],
   "source": [
    "X_test= [[1.25, 2.25, 3.25, 4.25],\n",
    "         [2.28, 3.38, 4.38, 5.38],\n",
    "         [5.55,6.66, 7.77, 8.88],\n",
    "         [1.11, 2.22, 3.33, 4.44],\n",
    "         [3.7, 6.8, 7.9, 8.0],\n",
    "         [6.94, 5.81, 4.38, 1.2],\n",
    "         [6.0, 5.0, 4.4, 3.5],\n",
    "         [7.26, 6.69, 4.3, 4.29],\n",
    "         [2.25, 2.20, 2.15, 2.10],\n",
    "         [9, 8, 7, 6]]\n",
    "Y_test = [[1], [1], [1], [1], [1],\n",
    "          [0], [0], [0], [0], [0]]"
   ]
  },
  {
   "cell_type": "code",
   "execution_count": 173,
   "metadata": {},
   "outputs": [
    {
     "name": "stdout",
     "output_type": "stream",
     "text": [
      "iter: 100, error train: 0.3868615952125125, error test: 0.6349862759189993\n",
      "X_test:\n",
      "[[0.9564553 ]\n",
      " [0.94866813]\n",
      " [0.89918981]\n",
      " [0.96630078]\n",
      " [0.96120412]\n",
      " [0.0063487 ]\n",
      " [0.01830394]\n",
      " [0.01488307]\n",
      " [0.14261797]\n",
      " [0.02221473]]\n",
      "Wall time: 9.15 s\n"
     ]
    }
   ],
   "source": [
    "# Обучение созданной сети\n",
    "%time res = NN.training(X_train, Y_train, X_test, Y_test, maxiter=100, callback=True)"
   ]
  },
  {
   "cell_type": "code",
   "execution_count": 174,
   "metadata": {},
   "outputs": [
    {
     "data": {
      "text/plain": [
       "[0.0,\n",
       " matrix([[-0.80189513, -0.64479605, -0.2405505 ,  0.24472185,  0.53542415],\n",
       "         [-0.43580671, -0.83424974, -0.15458279,  0.23889048,  0.56368852],\n",
       "         [ 0.33073902, -0.25120732, -0.16149999, -0.10821561, -0.11410549],\n",
       "         [-0.30905506, -0.0283404 , -0.13549194, -0.05682476, -0.1730135 ],\n",
       "         [-0.45766326, -0.9800193 , -0.39535911,  0.25968576,  0.8909188 ],\n",
       "         [-0.39170762, -0.41565936, -0.23405846,  0.04723204,  0.26698651],\n",
       "         [ 0.29075299,  0.00492389, -0.02641579, -0.04936723, -0.30454118],\n",
       "         [ 0.47280477, -0.03841339, -0.0600397 , -0.29790534, -0.65447759],\n",
       "         [-0.43249238, -0.26958138, -0.17625241, -0.04348227,  0.08824489],\n",
       "         [-0.4626261 , -0.33955572, -0.06536175, -0.05353496,  0.0695657 ],\n",
       "         [-0.01743381, -0.14679307, -0.26678122, -0.12973964,  0.01603483],\n",
       "         [ 0.02997551,  1.13405799,  0.36199033, -0.33564286, -0.99085808],\n",
       "         [-0.21239383, -0.02747479, -0.21567528, -0.18633057, -0.03352122],\n",
       "         [-0.65885417,  0.02389181, -0.00652012, -0.06039757, -0.18920556],\n",
       "         [-0.64315348,  0.43057028,  0.22215187,  0.01109643, -0.38844732],\n",
       "         [-0.572505  , -0.08315355,  0.02188736, -0.02638932, -0.22637234],\n",
       "         [-0.30157778, -0.05782552, -0.07050806, -0.15561112, -0.15186005],\n",
       "         [-0.92226451, -0.24180996, -0.10711481, -0.01593428,  0.05381187],\n",
       "         [-0.98170012, -0.0509068 , -0.23581032,  0.03788657, -0.07962796],\n",
       "         [-0.62777491, -0.21051139, -0.0333434 , -0.12528651, -0.09357584],\n",
       "         [-0.52393925, -0.72256656, -0.17442942,  0.14617986,  0.587775  ],\n",
       "         [ 0.01831261,  1.28584122,  0.50360081, -0.28455044, -1.19099294],\n",
       "         [ 0.80891178, -0.20677292, -0.25010484, -0.02024379, -0.22805537],\n",
       "         [ 0.27631268, -0.11327696, -0.15558805, -0.19959694, -0.11771163],\n",
       "         [-0.76649659, -0.35231725, -0.19517188,  0.08740596,  0.14284093],\n",
       "         [-0.35951334,  0.60862782,  0.1866072 , -0.12677175, -0.35524043],\n",
       "         [-0.93099242, -0.23172523,  0.0049247 ,  0.03573002, -0.14180801],\n",
       "         [ 0.40025325, -0.17248519, -0.05403458, -0.18385421, -0.1758188 ],\n",
       "         [-0.90834617, -0.67080356, -0.25209182,  0.21105689,  0.61010261],\n",
       "         [-0.77431498, -0.01222532, -0.07242893,  0.02490221, -0.20095747],\n",
       "         [-0.55482963, -0.29670444, -0.23708575,  0.05765823,  0.1353151 ],\n",
       "         [ 0.05411622,  0.00275877,  0.0515597 , -0.14960296, -0.23786172],\n",
       "         [-0.25915292, -0.2603768 , -0.04287444, -0.17437288,  0.01337008],\n",
       "         [ 0.35977331,  0.89876682,  0.10261793, -0.45647985, -1.24119021],\n",
       "         [-0.40230949, -0.21308114, -0.14531374, -0.04041382, -0.03528532],\n",
       "         [-0.43003188, -0.01155506, -0.14705936, -0.09827344, -0.13158675],\n",
       "         [ 0.17735824, -1.07201215, -0.43091697,  0.15042259,  0.96691461],\n",
       "         [-0.55000138,  0.75445924,  0.01555126, -0.39541855, -1.11726323],\n",
       "         [ 0.73194964, -0.30206415, -0.26791943, -0.14133612,  0.01519758],\n",
       "         [-0.57473427, -0.49749078, -0.18505389,  0.06343646,  0.41144214],\n",
       "         [-0.76504201,  0.06855793, -0.0259705 , -0.13465451, -0.13638377],\n",
       "         [-0.26756273, -0.18569676, -0.12138844, -0.19963582, -0.0664    ],\n",
       "         [ 0.23690666, -0.36032477, -0.19978986, -0.07390875,  0.07474404],\n",
       "         [-0.41986185,  0.11708292, -0.01206068, -0.22068648, -0.21261663],\n",
       "         [ 0.37393712, -0.09168805, -0.16293754, -0.26595744, -0.08240684],\n",
       "         [-0.67873237, -1.05604461, -0.27463956,  0.28716274,  0.84115902],\n",
       "         [ 0.07100221,  0.14620786, -0.00782187, -0.19375242, -0.23145257],\n",
       "         [ 0.79649623,  0.08353725, -0.04644915, -0.23811421, -0.24495195],\n",
       "         [-1.0335561 ,  0.05926403,  0.0107887 , -0.06978006, -0.15400536],\n",
       "         [-0.04538395, -0.12667935, -0.05470812, -0.10218199, -0.19296495]]),\n",
       " matrix([[-0.53805864,  0.47955022,  0.55156437,  0.05212221, -0.09769348,\n",
       "           0.77893651,  0.25848663, -0.20576983, -0.11332237,  0.13106572,\n",
       "           0.14372047,  0.05741636, -0.79832624, -0.03507632, -0.16054368,\n",
       "          -0.48071954, -0.13615906, -0.08906803,  0.10211704, -0.00319103,\n",
       "           0.0493569 ,  0.5092643 , -1.09298625, -0.02004483, -0.07057781,\n",
       "           0.18683283, -0.64687041,  0.01546323, -0.06128744,  0.46784681,\n",
       "          -0.11783217,  0.17418038, -0.19671703,  0.07057558, -0.56724073,\n",
       "           0.06057728, -0.1113367 ,  0.86636175, -0.42035466,  0.11442082,\n",
       "           0.36789199, -0.1530462 ,  0.0694896 ,  0.15816807, -0.18919358,\n",
       "          -0.0691998 ,  0.82890128, -0.24847776, -0.24251412, -0.15709676,\n",
       "          -0.08349345]])]"
      ]
     },
     "execution_count": 174,
     "metadata": {},
     "output_type": "execute_result"
    }
   ],
   "source": [
    "# Матрица весов после обучения нейронной сети\n",
    "Weights = NN.weights\n",
    "Weights"
   ]
  },
  {
   "cell_type": "code",
   "execution_count": 175,
   "metadata": {},
   "outputs": [
    {
     "data": {
      "text/plain": [
       "matrix([[0.95107301]])"
      ]
     },
     "execution_count": 175,
     "metadata": {},
     "output_type": "execute_result"
    }
   ],
   "source": [
    "# Проверка (экзамен) нейронной сети\n",
    "NN.run([[1.25, 2.2, 3.15, 4.1]])"
   ]
  },
  {
   "cell_type": "code",
   "execution_count": 176,
   "metadata": {},
   "outputs": [],
   "source": [
    "arr_history_train_1 = [i[1,0]  for i in res]  # пример с увеличивающейся последовательностью [2.28, 3.38, 4.38, 5.38]\n",
    "arr_history_train_0 = [i[-1,0] for i in res]  # пример с уменьшающейся последовательностью [9, 8, 7, 6]"
   ]
  },
  {
   "cell_type": "code",
   "execution_count": 177,
   "metadata": {},
   "outputs": [
    {
     "data": {
      "image/png": "[encoded data removed]",
      "text/plain": [
       "<Figure size 432x288 with 1 Axes>"
      ]
     },
     "metadata": {
      "needs_background": "light"
     },
     "output_type": "display_data"
    }
   ],
   "source": [
    "plt.figure()\n",
    "plt.plot(arr_history_train_1, label='1')\n",
    "plt.plot(arr_history_train_0, label='0')\n",
    "plt.legend(loc=2)\n",
    "plt.show()"
   ]
  },
  {
   "cell_type": "code",
   "execution_count": null,
   "metadata": {},
   "outputs": [],
   "source": []
  }
 ],
 "metadata": {
  "kernelspec": {
   "display_name": "Python 3",
   "language": "python",
   "name": "python3"
  },
  "language_info": {
   "codemirror_mode": {
    "name": "ipython",
    "version": 3
   },
   "file_extension": ".py",
   "mimetype": "text/x-python",
   "name": "python",
   "nbconvert_exporter": "python",
   "pygments_lexer": "ipython3",
   "version": "3.8.5"
  }
 },
 "nbformat": 4,
 "nbformat_minor": 4
}
