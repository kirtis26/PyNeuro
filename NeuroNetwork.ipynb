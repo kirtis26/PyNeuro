{
 "cells": [
  {
   "cell_type": "markdown",
   "metadata": {},
   "source": [
    "# PyNeuro\n",
    "## Модель машинного обучения  - НЕЙРОННАЯ СЕТЬ"
   ]
  },
  {
   "cell_type": "code",
   "execution_count": 1,
   "metadata": {},
   "outputs": [],
   "source": [
    "from copy import deepcopy\n",
    "import numpy as np\n",
    "from numpy import random as rd"
   ]
  },
  {
   "cell_type": "code",
   "execution_count": 2,
   "metadata": {},
   "outputs": [],
   "source": [
    "class NeuralNetwork(object):\n",
    "    \n",
    "    \"\"\"\n",
    "    Класс Нейронная сеть\n",
    "    Обучение сети проходит методом обратного распространения ошибки\n",
    "    layers - объект типа list: например, layers = [4, 20, 10, 5, 1]\n",
    "             4 нейрона на слое входных данных (input layers);\n",
    "             3 скрытых слоя сети NN (hidden layers), содержащих 20, 10 и 5 нейронов, соотвественно;\n",
    "             1 нейрон в выходном слое (output layers).\n",
    "    \"\"\"\n",
    "    \n",
    "    def __init__(self, layers, weights=None):\n",
    "        self.layers = layers\n",
    "        self.weights = weights\n",
    "        self.activations_value = None\n",
    "        self.summary_arg = None\n",
    "        self.n_layers = len(layers)\n",
    "    \n",
    "    def __repr__(self):\n",
    "        return f\"NeuralNetwork:\\n - input layer: {self.layers[0]} neurons;\\n - output layer: {self.layers[-1]} neurons;\\n - hidden layers: {len(self.layers[1:-1])}\"\n",
    "    \n",
    "    def function_activation(self, arg):\n",
    "        \"\"\"\n",
    "        Ф-ция активации - бинарная сигмоидальная функция с областью значений (0, 1)\n",
    "        \"\"\"\n",
    "        fx = 1 / (1 + np.exp(-arg))\n",
    "        if fx == 1:\n",
    "            return 1 - 1e-9\n",
    "        elif fx == 0:\n",
    "            return 0 + 1e-9\n",
    "        else:\n",
    "            return fx\n",
    "    \n",
    "    def derivative_activation(self, x):\n",
    "        return (1 / (1 + np.exp(-x))) * (1 - (1 / (1 + np.exp(-x))))\n",
    "    \n",
    "    def create(self):\n",
    "        \"\"\"\n",
    "        Ф-ция инициилизации нейронной сети. С помощью генератора списка создает матрицы \n",
    "        весов связей weights между нейронами каждого слоя со случайными числами от -1 до 1.\n",
    "        !ПРИМЕЧАНИЕ!: начальная матрица весов W[0] = 0.\n",
    "        \"\"\"\n",
    "        self.weights = [np.mat(rd.uniform(-1, 1, (self.layers[i], 1+self.layers[i-1])))\n",
    "                     if i!=0 else 0 for i in range(self.n_layers)]\n",
    "        \n",
    "    def run(self, input_data):\n",
    "        \"\"\"\n",
    "        Ф-ция вычисления матрицы выходных сигналов сети. \n",
    "        input_data - входные данные (может быть несколько сразу)\n",
    "        !ПРИМЕЧАНИЕ!: Значения активационной функции для входного слоя равны самим значениям\n",
    "        \"\"\"\n",
    "        count_sample = len(input_data)\n",
    "        self.activations_value = [deepcopy(input_data)]\n",
    "        self.summary_arg = [0]   \n",
    "        fa = np.vectorize(self.function_activation)\n",
    "        \n",
    "        for i in range(1, self.n_layers):\n",
    "            self.activations_value[i-1] = np.c_[np.ones(count_sample), self.activations_value[i-1]]\n",
    "            self.summary_arg.append(self.activations_value[i-1] * self.weights[i].T)\n",
    "            self.activations_value.append(fa(self.summary_arg[i]))\n",
    "            \n",
    "        out_signal = self.activations_value[-1]\n",
    "        return out_signal\n",
    "            \n",
    "    def backpropagation(self, X, Y_expect, lambd):\n",
    "        \"\"\"\n",
    "        Метод обратного распространения ошибки\n",
    "        X - входные значения\n",
    "        Y_expect - ожидаемые выходные значения сети \n",
    "        \"\"\"\n",
    "        count_layers = self.n_layers\n",
    "        count_sample = len(X)\n",
    "        delta_W = [0] * count_layers\n",
    "        Y_expect = np.matrix(Y_expect)\n",
    "        Y = deepcopy(self.run(X))\n",
    "        W = deepcopy(self.weights)\n",
    "        Z = deepcopy(self.summary_arg)\n",
    "        A = deepcopy(self.activations_value)\n",
    "        foo_der = np.vectorize(self.derivative_activation)\n",
    "        \n",
    "        for n in range(0, count_sample):\n",
    "            delta = [0] * (count_layers + 1)\n",
    "            delta[-1] = (Y[n] - Y_expect[n]).T\n",
    "            for i in range(count_layers - 1, 0, -1):\n",
    "                if i > 1:\n",
    "                    z = Z[i-1][n]\n",
    "                    z = np.c_[[[1]], z]\n",
    "                    delta[i] = np.multiply(W[i].T * delta[i + 1], foo_der(z).T)\n",
    "                    delta[i] = delta[i][1:]\n",
    "                delta_W[i] += delta[i + 1] * A[i - 1][n]\n",
    "\n",
    "        for i in range(1, len(delta_W)):\n",
    "            delta_W[i] = delta_W[i] / count_layers\n",
    "            delta_W[i][:, 1:] = delta_W[i][:, 1:] + W[i][:, 1:] * (lambd / count_layers)\n",
    "            \n",
    "        return delta_W\n",
    "    \n",
    "    def get_error(self, X, Y, lambd):\n",
    "        \"\"\"\n",
    "        Ф-ция вычисления ошибки выходного сигнала нейронной сети с регуляризацией\n",
    "        lambd - коэффициент регуляризации\n",
    "        X - входные данные\n",
    "        Y - выходные значения \n",
    "        \"\"\"\n",
    "        count_sample = len(X)\n",
    "        Y = np.matrix(deepcopy(Y))\n",
    "        W = deepcopy(self.weights)\n",
    "        H = self.run(X)\n",
    "        \n",
    "        cost = (-1 * Y.T * np.log(H) - (1 - Y.T) * np.log(1 - H)).sum(axis=0).sum(axis=1)\n",
    "        regul = 0\n",
    "        \n",
    "        for i in range(1, len(W)):\n",
    "            W[i] = np.delete(W[i], 0, axis=1)\n",
    "            W[i] = np.power(W[i], 2)\n",
    "            regul += W[i].sum(axis=0).sum(axis=1)\n",
    "            \n",
    "        return cost / count_sample + (lambd / (2 * count_sample)) * regul\n",
    "\n",
    "    def training(self, xTrain, yTrain, xTest, yTest, alpha=0.2, lambd=0.3, maxiter=1000):\n",
    "        \"\"\"\n",
    "        Ф-ция обучения нейронной сети - подбирает матрицу весов связей на основе обучающей выборки\n",
    "        alpha - отвечает за скорость обучения (насколько сильно изменяется матрица весов в каждой итерации)\n",
    "        \"\"\"\n",
    "        eps, mi = 1, 0\n",
    "        \n",
    "        while eps > 0 and mi < maxiter:\n",
    "            eps = self.get_error(xTrain, yTrain, lambd)\n",
    "            eps_test = self.get_error(xTest, yTest, lambd)\n",
    "            delta = self.backpropagation(xTrain, yTrain, lambd)\n",
    "            self.weights = [self.weights[i] - alpha * delta[i] for i in range(len(self.weights))]\n",
    "            mi += 1\n",
    "        \n",
    "        print(f'iter: {mi}, error train: {eps[0, 0]}, error test: {eps_test[0, 0]}')\n",
    "        print(f'X_test:\\n{self.run(xTest)}')"
   ]
  },
  {
   "cell_type": "markdown",
   "metadata": {},
   "source": [
    "## Пример обучения нейронной сети"
   ]
  },
  {
   "cell_type": "code",
   "execution_count": 3,
   "metadata": {},
   "outputs": [],
   "source": [
    "layers = [4, 16, 1]"
   ]
  },
  {
   "cell_type": "code",
   "execution_count": 4,
   "metadata": {},
   "outputs": [
    {
     "data": {
      "text/plain": [
       "NeuralNetwork:\n",
       " - input layer: 4 neurons;\n",
       " - output layer: 1 neurons;\n",
       " - hidden layers: 1"
      ]
     },
     "execution_count": 4,
     "metadata": {},
     "output_type": "execute_result"
    }
   ],
   "source": [
    "# Создание объекта класса Нейронная сеть\n",
    "NN = NeuralNetwork(layers)\n",
    "NN"
   ]
  },
  {
   "cell_type": "code",
   "execution_count": 5,
   "metadata": {},
   "outputs": [],
   "source": [
    "# Создание нейронной сети\n",
    "NN.create()"
   ]
  },
  {
   "cell_type": "code",
   "execution_count": 6,
   "metadata": {},
   "outputs": [],
   "source": [
    "# Обучающая выборка: если последовательность возрастающая то 1, иначе - 0\n",
    "xTrain = [[1, 2.3, 4.5, 5.3],\n",
    "          [1.1, 1.3, 2.4, 2.4],\n",
    "          [1.9, 1.7, 1.5, 1.3],\n",
    "          [2.3, 2.9, 3.3, 4.9],\n",
    "          [3, 5.2, 6.1, 8.2],\n",
    "          [3.31, 2.9, 2.4, 1.5],\n",
    "          [4.9, 5.7, 6.1, 6.3],\n",
    "          [4.85, 5.0, 7.2, 8.1],\n",
    "          [5.9, 5.3, 4.2, 3.3],\n",
    "          [7.7, 5.4, 4.3, 3.9],\n",
    "          [6.7, 5.3, 3.2, 1.4],\n",
    "          [7.1, 8.6, 9.1, 9.9],\n",
    "          [8.5, 7.4, 6.3, 4.1],\n",
    "          [9.8, 5.3, 3.1, 2.9]]\n",
    "yTrain = [[1], [1], [0], [1], [1], [0], [1], [1], [0], [0], [0], [1], [0], [0]]"
   ]
  },
  {
   "cell_type": "code",
   "execution_count": 7,
   "metadata": {},
   "outputs": [],
   "source": [
    "xTest= [[0.4, 1.9, 2.5, 3.1],\n",
    "        [1.51, 2.0, 2.4, 3.8],\n",
    "        [2.6, 5.1, 6.2, 7.2],\n",
    "        [3.23, 4.1, 4.3, 4.9],\n",
    "        [7.1, 7.6, 8.2, 9.3],\n",
    "        [5.78, 5.1, 4.5, 3.55],\n",
    "        [6.33, 4.8, 3.4, 2.5],\n",
    "        [7.67, 6.45, 5.8, 4.31],\n",
    "        [8.22, 6.32, 5.87, 3.59],\n",
    "        [9.1, 8.5, 7.7, 6.1]]\n",
    "yTest = [[1], [1], [1], [1], [1], [0], [0], [0], [0], [0]]"
   ]
  },
  {
   "cell_type": "code",
   "execution_count": 8,
   "metadata": {},
   "outputs": [
    {
     "name": "stdout",
     "output_type": "stream",
     "text": [
      "iter: 1000, error train: 0.21060326991731546, error test: 0.27372583015427665\n",
      "X_test:\n",
      "[[0.9017941 ]\n",
      " [0.87539954]\n",
      " [0.9816439 ]\n",
      " [0.86694876]\n",
      " [0.9624906 ]\n",
      " [0.12835151]\n",
      " [0.03011409]\n",
      " [0.07604479]\n",
      " [0.03362326]\n",
      " [0.15489105]]\n",
      "Wall time: 21.2 s\n"
     ]
    }
   ],
   "source": [
    "# Обучение созданной сети\n",
    "%time NN.training(xTrain, yTrain, xTest, yTest)"
   ]
  },
  {
   "cell_type": "code",
   "execution_count": 9,
   "metadata": {},
   "outputs": [
    {
     "data": {
      "text/plain": [
       "[0.0,\n",
       " matrix([[ 0.44451103,  0.35645042,  0.12623628, -0.20356467, -0.42802284],\n",
       "         [ 0.57881314, -0.28981819, -0.11792614,  0.10102256,  0.26536842],\n",
       "         [ 0.83010273,  0.34552385,  0.11295624, -0.22923934, -0.45648222],\n",
       "         [ 0.13835472,  0.35423659,  0.13147531, -0.17823694, -0.3950082 ],\n",
       "         [-0.47934611, -0.36280321, -0.12830271,  0.20948922,  0.43823053],\n",
       "         [-0.49978732,  0.26038056,  0.10412215, -0.09516725, -0.2440539 ],\n",
       "         [-0.28303191,  0.33284209,  0.13051118, -0.13758954, -0.33332483],\n",
       "         [-0.21369951, -0.36316588, -0.13385175,  0.1882649 ,  0.41163746],\n",
       "         [ 0.28102577,  0.35696148,  0.12981961, -0.19072857, -0.41199703],\n",
       "         [-0.64879106, -0.35914573, -0.12308419,  0.22150999,  0.4519667 ],\n",
       "         [-0.34696472, -0.36331836, -0.13123399,  0.19899805,  0.42522747],\n",
       "         [ 0.77113057,  0.34804508,  0.11542513, -0.22577655, -0.45298227],\n",
       "         [-0.63749752, -0.3595329 , -0.12350313,  0.22078309,  0.45119593],\n",
       "         [ 0.59824732,  0.35357668,  0.12169996, -0.21457174, -0.44082603],\n",
       "         [-0.10196198, -0.36186836, -0.13549789,  0.17886247,  0.39921166],\n",
       "         [-0.71135669, -0.35717538, -0.12084004,  0.22562907,  0.4564326 ]]),\n",
       " matrix([[-0.38789275, -0.68383061,  0.44860378, -0.70670915, -0.64264853,\n",
       "           0.70762278, -0.3988141 , -0.55229309,  0.67618011, -0.66528603,\n",
       "           0.72039164,  0.69258031, -0.70510486,  0.71985929, -0.69622053,\n",
       "           0.66013302,  0.72372866]])]"
      ]
     },
     "execution_count": 9,
     "metadata": {},
     "output_type": "execute_result"
    }
   ],
   "source": [
    "# Матрица весов после обучения нейронной сети\n",
    "Weights = NN.weights\n",
    "Weights"
   ]
  },
  {
   "cell_type": "code",
   "execution_count": 10,
   "metadata": {},
   "outputs": [
    {
     "data": {
      "text/plain": [
       "matrix([[0.93194197]])"
      ]
     },
     "execution_count": 10,
     "metadata": {},
     "output_type": "execute_result"
    }
   ],
   "source": [
    "# Проверка (экзамен) нейронной сети\n",
    "NN.run([[1.25, 2.2, 3.15, 4.1]])"
   ]
  },
  {
   "cell_type": "code",
   "execution_count": null,
   "metadata": {},
   "outputs": [],
   "source": []
  }
 ],
 "metadata": {
  "kernelspec": {
   "display_name": "Python 3",
   "language": "python",
   "name": "python3"
  },
  "language_info": {
   "codemirror_mode": {
    "name": "ipython",
    "version": 3
   },
   "file_extension": ".py",
   "mimetype": "text/x-python",
   "name": "python",
   "nbconvert_exporter": "python",
   "pygments_lexer": "ipython3",
   "version": "3.8.5"
  }
 },
 "nbformat": 4,
 "nbformat_minor": 4
}
